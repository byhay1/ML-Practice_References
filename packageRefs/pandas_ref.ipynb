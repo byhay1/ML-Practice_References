{
 "cells": [
  {
   "cell_type": "markdown",
   "metadata": {},
   "source": [
    "# Pandas Reference \n",
    "## simple code for pandas"
   ]
  },
  {
   "cell_type": "code",
   "execution_count": 2,
   "metadata": {},
   "outputs": [],
   "source": [
    "import pandas as pd"
   ]
  },
  {
   "cell_type": "code",
   "execution_count": 4,
   "metadata": {},
   "outputs": [],
   "source": [
    "# set variable to dataset\n",
    "ds = pd.read_csv('/home/beehive/Documents/ML-Pokemon/pokemon_data.csv')\n",
    "# ds_excel = pd.read_excel('Path')\n",
    "# ds_txt = pd.read_csv('Path', delimiter='\\t')"
   ]
  },
  {
   "cell_type": "code",
   "execution_count": 6,
   "metadata": {},
   "outputs": [],
   "source": [
    "# use 'head' and 'tail' to see the top/bottom rows\n",
    "ds_head = ds.head(3)\n",
    "ds_tail = ds.tail(3)"
   ]
  },
  {
   "cell_type": "code",
   "execution_count": 8,
   "metadata": {},
   "outputs": [],
   "source": [
    "#---Reading the data---#\n",
    "# reading the headers\n",
    "ds_col = ds.columns\n",
    "\n",
    "# reading the columns\n",
    "ds_rcol = ds['Name'][0:4]\n",
    "#OR, ds_rcol[['Name', 'Type 2' 'HP']]\n",
    "\n",
    "# read each row\n",
    "ds_iloc = ds.iloc[1]\n",
    "#OR, \n",
    "#for index, row in ds.iterrows():\n",
    "#    print (index, row[])\n",
    "#OR, \n",
    "ds.loc[ds['Type 1'] == \"Fire\"]\n",
    "\n",
    "# read a specific location (Row,Cols)\n",
    "ds_piloc = ds.iloc[2,1] # prints Venusaur "
   ]
  },
  {
   "cell_type": "code",
   "execution_count": 12,
   "metadata": {},
   "outputs": [],
   "source": [
    "#---Sorting and Describing---#\n",
    "# get the mean, min, std, max, etc. \n",
    "ds_des = ds.describe()\n",
    "\n",
    "# sort the data\n",
    "ds_sort = ds.sort_values(['Name', 'HP'], ascending=[1,0])"
   ]
  },
  {
   "cell_type": "code",
   "execution_count": 13,
   "metadata": {},
   "outputs": [],
   "source": [
    "#---Alter Data---#\n",
    "# add column, add row data to find total \n",
    "#ds['Total'] = ds['HP'] + ds['Attack'] + ds['Defense'] + ds['Sp. Atk'] + ds['Sp. Def'] + ds['Speed'] \n",
    "#OR, ds['Total'] = ds.iloc[:, 4:10].sum(axis=1)\n",
    "\n",
    "\n",
    "# drop a column\n",
    "#ds = ds.drop(columns=['Total']\n",
    "\n",
    "# get range of columns\n",
    "#cols = list(ds.column.values)\n",
    "#ds = ds[col[0:4] + [cols[-1]] + cols[4:12] #moves total to left"
   ]
  },
  {
   "cell_type": "code",
   "execution_count": 14,
   "metadata": {},
   "outputs": [],
   "source": [
    "#---Saving and Exporting---#\n",
    "# save to a new csv, remove index by including (, index=False)\n",
    "#ds.to_csv('modded.csv') \n",
    "#ds.to_excel('modded2.xlsx') \n",
    "#ds.to_csv('modded.txt', sep='\\t')\n"
   ]
  },
  {
   "cell_type": "code",
   "execution_count": 18,
   "metadata": {},
   "outputs": [],
   "source": [
    "#---Filter Data---#\n",
    "# sample filter\n",
    "ds_filter = ds.loc[(ds['Type 1'] == 'Fire') & (ds['Type 2'] == 'Flying')]\n",
    "\n",
    "#reset the index for... indexing\n",
    "ds_filter.reset_index(drop=True, inplace=True)\n",
    "\n",
    "#ds_filter\n",
    "\n",
    "# filtering based on particular identifiers\n",
    "ds_pfilter = ds.loc[ds['Name'].str.contains('Mega')] # gets all containing Mega\n",
    "ds_qfilter = ds.loc[~ds['Name'].str.contains('Mega')] # gets all ! containing Mega"
   ]
  },
  {
   "cell_type": "code",
   "execution_count": null,
   "metadata": {},
   "outputs": [],
   "source": []
  },
  {
   "cell_type": "code",
   "execution_count": null,
   "metadata": {},
   "outputs": [],
   "source": []
  }
 ],
 "metadata": {
  "kernelspec": {
   "display_name": "Python 3",
   "language": "python",
   "name": "python3"
  },
  "language_info": {
   "codemirror_mode": {
    "name": "ipython",
    "version": 3
   },
   "file_extension": ".py",
   "mimetype": "text/x-python",
   "name": "python",
   "nbconvert_exporter": "python",
   "pygments_lexer": "ipython3",
   "version": "3.7.3"
  }
 },
 "nbformat": 4,
 "nbformat_minor": 2
}
